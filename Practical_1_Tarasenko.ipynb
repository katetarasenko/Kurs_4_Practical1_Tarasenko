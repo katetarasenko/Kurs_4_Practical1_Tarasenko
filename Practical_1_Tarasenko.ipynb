{
  "nbformat": 4,
  "nbformat_minor": 0,
  "metadata": {
    "colab": {
      "provenance": [],
      "authorship_tag": "ABX9TyM4ESQrykNYFDwjBlwJOhq3",
      "include_colab_link": true
    },
    "kernelspec": {
      "name": "python3",
      "display_name": "Python 3"
    },
    "language_info": {
      "name": "python"
    }
  },
  "cells": [
    {
      "cell_type": "markdown",
      "metadata": {
        "id": "view-in-github",
        "colab_type": "text"
      },
      "source": [
        "<a href=\"https://colab.research.google.com/github/katetarasenko/Kurs_4_Practical1_Tarasenko/blob/main/Practical_1_Tarasenko.ipynb\" target=\"_parent\"><img src=\"https://colab.research.google.com/assets/colab-badge.svg\" alt=\"Open In Colab\"/></a>"
      ]
    },
    {
      "cell_type": "markdown",
      "source": [
        "Завдання 1\n",
        "\n",
        "Створити одновимірний масив зі значенням и квадратних коренів з кожного натурального числа, починаючи з 1, і вивести ці значеня"
      ],
      "metadata": {
        "id": "ZmTXKYjD0duG"
      }
    },
    {
      "cell_type": "code",
      "source": [
        "import numpy as np"
      ],
      "metadata": {
        "id": "8R3ugXa70wo8"
      },
      "execution_count": 1,
      "outputs": []
    },
    {
      "cell_type": "code",
      "source": [
        "n = 10  # кількість чисел,\n",
        "\n",
        "# Створюємо масив натуральних чисел від 1 до n\n",
        "natural_numbers = np.arange(1, n + 1)\n",
        "\n",
        "# Обчислюємо квадратні корені\n",
        "square_roots = np.sqrt(natural_numbers)\n",
        "\n",
        "# Виводимо результат\n",
        "print(\"Натуральні числа:\", natural_numbers)\n",
        "print(\"Квадратні корені:\", square_roots)"
      ],
      "metadata": {
        "colab": {
          "base_uri": "https://localhost:8080/"
        },
        "id": "soKH9ul_0fOU",
        "outputId": "ce60553e-bc0a-4dd9-c3cd-bb34f7a342fa"
      },
      "execution_count": 2,
      "outputs": [
        {
          "output_type": "stream",
          "name": "stdout",
          "text": [
            "Натуральні числа: [ 1  2  3  4  5  6  7  8  9 10]\n",
            "Квадратні корені: [1.         1.41421356 1.73205081 2.         2.23606798 2.44948974\n",
            " 2.64575131 2.82842712 3.         3.16227766]\n"
          ]
        }
      ]
    },
    {
      "cell_type": "markdown",
      "source": [
        "Завдання 2\n",
        "\n",
        "Створити двовимірний масив розміром 3*3, заповнити його значеннями коренів 4 ступеня перших дійсних чисел"
      ],
      "metadata": {
        "id": "GS8Nlisy4KaY"
      }
    },
    {
      "cell_type": "code",
      "source": [
        "real_numbers = np.arange(1, 10).reshape(3, 3)\n",
        "\n",
        "# Обчислюємо четверті корені\n",
        "fourth_roots = np.power(real_numbers, 1/4)\n",
        "\n",
        "# Виводимо результат\n",
        "print(\"Масив дійсних чисел:\\n\", real_numbers)\n",
        "print(\"Масив четвертих коренів:\\n\", fourth_roots)"
      ],
      "metadata": {
        "colab": {
          "base_uri": "https://localhost:8080/"
        },
        "id": "z_bv23zf5-ix",
        "outputId": "ee5e0d6a-c2fd-4ce9-b296-d8108a11d177"
      },
      "execution_count": 3,
      "outputs": [
        {
          "output_type": "stream",
          "name": "stdout",
          "text": [
            "Масив дійсних чисел:\n",
            " [[1 2 3]\n",
            " [4 5 6]\n",
            " [7 8 9]]\n",
            "Масив четвертих коренів:\n",
            " [[1.         1.18920712 1.31607401]\n",
            " [1.41421356 1.49534878 1.56508458]\n",
            " [1.62657656 1.68179283 1.73205081]]\n"
          ]
        }
      ]
    },
    {
      "cell_type": "markdown",
      "source": [
        "завдання 3\n",
        "\n",
        "Створити масив розміром 3*3, заповнити випадковими натуральними числами від 1 до 50, знайти суму елементів кожного рядка"
      ],
      "metadata": {
        "id": "UiH3F7Cf7c-7"
      }
    },
    {
      "cell_type": "code",
      "source": [
        "#створити масив і заповнення його рандомними числами\n",
        "random_array = np.random.randint(1, 51, size=(3, 3))\n",
        "\n",
        "# Обчислюємо суму елементів кожного рядка\n",
        "row_sums = np.sum(random_array, axis=1)\n",
        "\n",
        "# Виводимо результат\n",
        "print(\"Випадковий масив:\\n\", random_array)\n",
        "print(\"Сума елементів кожного рядка:\\n\", row_sums)"
      ],
      "metadata": {
        "colab": {
          "base_uri": "https://localhost:8080/"
        },
        "id": "ggsjoOzqBhsP",
        "outputId": "451974bb-132a-4e03-9212-7592bee0fb81"
      },
      "execution_count": 4,
      "outputs": [
        {
          "output_type": "stream",
          "name": "stdout",
          "text": [
            "Випадковий масив:\n",
            " [[50 35 17]\n",
            " [26 19 19]\n",
            " [38 44  1]]\n",
            "Сума елементів кожного рядка:\n",
            " [102  64  83]\n"
          ]
        }
      ]
    },
    {
      "cell_type": "markdown",
      "source": [
        "Завдання 4\n",
        "\n",
        "Створити масив розміром 4*4, заповнити його випадковими числами від -0.9 до 0.9 і вивести його"
      ],
      "metadata": {
        "id": "OygU0-J8BttN"
      }
    },
    {
      "cell_type": "code",
      "source": [
        "random_array = np.random.uniform(-0.9, 0.9, size=(4, 4))\n",
        "\n",
        "# Виводимо результат\n",
        "print(\"Масив випадкових чисел від -0.9 до 0.9:\\n\", random_array)"
      ],
      "metadata": {
        "colab": {
          "base_uri": "https://localhost:8080/"
        },
        "id": "NdfGkkpJCDJV",
        "outputId": "f6ff50a4-b326-43e4-9ca8-a71bee00cf75"
      },
      "execution_count": 5,
      "outputs": [
        {
          "output_type": "stream",
          "name": "stdout",
          "text": [
            "Масив випадкових чисел від -0.9 до 0.9:\n",
            " [[ 0.23159179  0.65657227 -0.00859021  0.8350354 ]\n",
            " [-0.03775994  0.48554548 -0.66781434  0.61256531]\n",
            " [ 0.45976932  0.52637068 -0.63124335  0.09503675]\n",
            " [ 0.11504088  0.13519123  0.08625846  0.04416899]]\n"
          ]
        }
      ]
    },
    {
      "cell_type": "markdown",
      "source": [
        "Завдання 5\n",
        "\n",
        "Створити 2 одновимірних масиви розмірами по 7, заповнити їх випадковими цілими числами в діапазоні від 1 до 5, виконати на них поелементні операції додавання, віднімання, множення"
      ],
      "metadata": {
        "id": "sn4NsAXvCILV"
      }
    },
    {
      "cell_type": "code",
      "source": [
        "array1 = np.random.randint(1, 6, size=7)\n",
        "array2 = np.random.randint(1, 6, size=7)\n",
        "\n",
        "# Поелементне додавання\n",
        "addition = np.add(array1, array2)\n",
        "\n",
        "# Поелементне віднімання\n",
        "subtraction = np.subtract(array1, array2)\n",
        "\n",
        "# Поелементне множення\n",
        "multiplication = np.multiply(array1, array2)\n",
        "\n",
        "# Виводимо результати\n",
        "print(\"Перший масив:\\n\", array1)\n",
        "print(\"Другий масив:\\n\", array2)\n",
        "print(\"Поелементне додавання:\\n\", addition)\n",
        "print(\"Поелементне віднімання:\\n\", subtraction)\n",
        "print(\"Поелементне множення:\\n\", multiplication)"
      ],
      "metadata": {
        "colab": {
          "base_uri": "https://localhost:8080/"
        },
        "id": "-DLReJCOCuRN",
        "outputId": "ecd13e38-08e6-466b-8feb-b2aaccc4d59c"
      },
      "execution_count": 6,
      "outputs": [
        {
          "output_type": "stream",
          "name": "stdout",
          "text": [
            "Перший масив:\n",
            " [4 2 3 3 4 4 2]\n",
            "Другий масив:\n",
            " [5 5 1 2 1 1 2]\n",
            "Поелементне додавання:\n",
            " [9 7 4 5 5 5 4]\n",
            "Поелементне віднімання:\n",
            " [-1 -3  2  1  3  3  0]\n",
            "Поелементне множення:\n",
            " [20 10  3  6  4  4  4]\n"
          ]
        }
      ]
    },
    {
      "cell_type": "markdown",
      "source": [
        "Завдання 6\n",
        "\n",
        "створити дві матриці 3*3 та заповнити їх довільними цілими числами від 0 до 5 та знайти їх добуток"
      ],
      "metadata": {
        "id": "yfTVdLMSDiC-"
      }
    },
    {
      "cell_type": "code",
      "source": [
        "matrix1 = np.random.randint(0, 6, size=(3, 3))\n",
        "matrix2 = np.random.randint(0, 6, size=(3, 3))\n",
        "\n",
        "# Знаходимо їх добуток\n",
        "product = np.dot(matrix1, matrix2)\n",
        "\n",
        "# Виводимо результати\n",
        "print(\"Перша матриця:\\n\", matrix1)\n",
        "print(\"Друга матриця:\\n\", matrix2)\n",
        "print(\"Добуток матриць:\\n\", product)"
      ],
      "metadata": {
        "colab": {
          "base_uri": "https://localhost:8080/"
        },
        "id": "IErhv9VlD5L6",
        "outputId": "9d6aa298-643b-4a04-ac12-9460cdd3cc10"
      },
      "execution_count": 7,
      "outputs": [
        {
          "output_type": "stream",
          "name": "stdout",
          "text": [
            "Перша матриця:\n",
            " [[4 5 4]\n",
            " [4 0 1]\n",
            " [3 5 1]]\n",
            "Друга матриця:\n",
            " [[0 2 2]\n",
            " [4 1 5]\n",
            " [4 1 5]]\n",
            "Добуток матриць:\n",
            " [[36 17 53]\n",
            " [ 4  9 13]\n",
            " [24 12 36]]\n"
          ]
        }
      ]
    },
    {
      "cell_type": "markdown",
      "source": [
        "Завдання 7\n",
        "\n",
        "створити 2 матриці розмірами 2*3 та 3*4, заповнити випадковими числами від 1 до 7 та перемножити їх між собою"
      ],
      "metadata": {
        "id": "QBsVGvZoEXpy"
      }
    },
    {
      "cell_type": "code",
      "source": [
        "matrix1 = np.random.randint(1, 8, size=(2, 3))\n",
        "matrix2 = np.random.randint(1, 8, size=(3, 4))\n",
        "\n",
        "# Перемножуємо матриці\n",
        "product = np.dot(matrix1, matrix2)\n",
        "\n",
        "# Виводимо результати\n",
        "print(\"Перша матриця (2x3):\\n\", matrix1)\n",
        "print(\"Друга матриця (3x4):\\n\", matrix2)\n",
        "print(\"Добуток матриць (2x4):\\n\", product)"
      ],
      "metadata": {
        "colab": {
          "base_uri": "https://localhost:8080/"
        },
        "id": "LET8VG_nEzKh",
        "outputId": "e124a65b-3b7e-4031-e8bd-41395ad12da1"
      },
      "execution_count": 8,
      "outputs": [
        {
          "output_type": "stream",
          "name": "stdout",
          "text": [
            "Перша матриця (2x3):\n",
            " [[1 3 5]\n",
            " [1 2 6]]\n",
            "Друга матриця (3x4):\n",
            " [[4 5 5 3]\n",
            " [6 3 3 1]\n",
            " [5 1 2 6]]\n",
            "Добуток матриць (2x4):\n",
            " [[47 19 24 36]\n",
            " [46 17 23 41]]\n"
          ]
        }
      ]
    },
    {
      "cell_type": "markdown",
      "source": [
        "Завдання 8\n",
        "\n",
        "Створити матрицю розміром 2*2, заповнити її випадковими числами від 1 до 15 та знайти обернену матрицю"
      ],
      "metadata": {
        "id": "Xnb38bpVFEbs"
      }
    },
    {
      "cell_type": "code",
      "source": [
        "matrix = np.random.randint(1, 16, size=(2, 2))\n",
        "\n",
        "# Знаходимо обернену матрицю\n",
        "inverse_matrix = np.linalg.inv(matrix)\n",
        "\n",
        "# Виводимо результати\n",
        "print(\"Початкова матриця:\\n\", matrix)\n",
        "print(\"Обернена матриця:\\n\", inverse_matrix)"
      ],
      "metadata": {
        "colab": {
          "base_uri": "https://localhost:8080/"
        },
        "id": "XMBMlV-xFhYQ",
        "outputId": "4c6619bf-ee2f-4132-fc79-6ab55d727408"
      },
      "execution_count": 9,
      "outputs": [
        {
          "output_type": "stream",
          "name": "stdout",
          "text": [
            "Початкова матриця:\n",
            " [[ 1  6]\n",
            " [14 10]]\n",
            "Обернена матриця:\n",
            " [[-0.13513514  0.08108108]\n",
            " [ 0.18918919 -0.01351351]]\n"
          ]
        }
      ]
    },
    {
      "cell_type": "markdown",
      "source": [
        "Завдання 9\n",
        "\n",
        "Створити матрицю розміром 3*3 заповнити її випадковими цілими числами в діапазоні від 3 до 15 та транспонувати її"
      ],
      "metadata": {
        "id": "qJ4TjSKgFj_8"
      }
    },
    {
      "cell_type": "code",
      "source": [
        "matrix = np.random.randint(3, 16, size=(3, 3))\n",
        "\n",
        "# Транспонуємо матрицю\n",
        "transposed_matrix = np.transpose(matrix)\n",
        "\n",
        "# Виводимо результати\n",
        "print(\"Початкова матриця:\\n\", matrix)\n",
        "print(\"Транспонована матриця:\\n\", transposed_matrix)"
      ],
      "metadata": {
        "colab": {
          "base_uri": "https://localhost:8080/"
        },
        "id": "v5cNfh_BF_Mm",
        "outputId": "6d674457-13eb-4fa1-fb6f-181566377c87"
      },
      "execution_count": 10,
      "outputs": [
        {
          "output_type": "stream",
          "name": "stdout",
          "text": [
            "Початкова матриця:\n",
            " [[ 9  3  4]\n",
            " [ 4 11  4]\n",
            " [ 5 13  5]]\n",
            "Транспонована матриця:\n",
            " [[ 9  4  5]\n",
            " [ 3 11 13]\n",
            " [ 4  4  5]]\n"
          ]
        }
      ]
    },
    {
      "cell_type": "markdown",
      "source": [
        "Завдання 10\n",
        "\n",
        "Створити матрицю розміром 3*4 та вектор розміром 4*1, заповнити і матрицю і вектор випадковими цілими числами від 1 до 10, знайти добуток матриці на вектор"
      ],
      "metadata": {
        "id": "frwu9KvTGDLc"
      }
    },
    {
      "cell_type": "code",
      "source": [
        "matrix = np.random.randint(1, 11, size=(3, 4))\n",
        "vector = np.random.randint(1, 11, size=(4, 1))\n",
        "\n",
        "# Знаходимо добуток матриці на вектор\n",
        "product = np.dot(matrix, vector)\n",
        "\n",
        "# Виводимо результати\n",
        "print(\"Початкова матриця (3x4):\\n\", matrix)\n",
        "print(\"Вектор (4x1):\\n\", vector)\n",
        "print(\"Добуток матриці на вектор (3x1):\\n\", product)"
      ],
      "metadata": {
        "colab": {
          "base_uri": "https://localhost:8080/"
        },
        "id": "vOj9sw-UGkXO",
        "outputId": "aefd0007-ca5c-4582-bf02-8dee33e0676e"
      },
      "execution_count": 11,
      "outputs": [
        {
          "output_type": "stream",
          "name": "stdout",
          "text": [
            "Початкова матриця (3x4):\n",
            " [[ 8  3  7 10]\n",
            " [ 3  8  1 10]\n",
            " [ 2  3  5  7]]\n",
            "Вектор (4x1):\n",
            " [[1]\n",
            " [2]\n",
            " [9]\n",
            " [8]]\n",
            "Добуток матриці на вектор (3x1):\n",
            " [[157]\n",
            " [108]\n",
            " [109]]\n"
          ]
        }
      ]
    },
    {
      "cell_type": "markdown",
      "source": [
        "Завдання 11\n",
        "\n",
        "Створити матрицю розміром 2*3, та вектор розміром 3*1, заповнити матрицю і вектор випадковими дійсними числами від 0 до 1, знайти добуток матриці на вектор"
      ],
      "metadata": {
        "id": "KnkhAm3TG-sf"
      }
    },
    {
      "cell_type": "code",
      "source": [
        "matrix = np.random.uniform(0, 1, size=(2, 3))\n",
        "vector = np.random.uniform(0, 1, size=(3, 1))\n",
        "\n",
        "# Знаходимо добуток матриці на вектор\n",
        "product = np.dot(matrix, vector)\n",
        "\n",
        "# Виводимо результати\n",
        "print(\"Початкова матриця (2x3):\\n\", matrix)\n",
        "print(\"Вектор (3x1):\\n\", vector)\n",
        "print(\"Добуток матриці на вектор (2x1):\\n\", product)"
      ],
      "metadata": {
        "colab": {
          "base_uri": "https://localhost:8080/"
        },
        "id": "bemEh02bHeJG",
        "outputId": "e5964950-2897-4c10-fdb3-cb4e6273d9b4"
      },
      "execution_count": 12,
      "outputs": [
        {
          "output_type": "stream",
          "name": "stdout",
          "text": [
            "Початкова матриця (2x3):\n",
            " [[0.51302624 0.8775214  0.1523343 ]\n",
            " [0.12999473 0.30511342 0.78138582]]\n",
            "Вектор (3x1):\n",
            " [[0.22151558]\n",
            " [0.84784139]\n",
            " [0.09998545]]\n",
            "Добуток матриці на вектор (2x1):\n",
            " [[0.87287349]\n",
            " [0.36561086]]\n"
          ]
        }
      ]
    },
    {
      "cell_type": "markdown",
      "source": [
        "Завдання 12\n",
        "\n",
        "Створити дві матриці розміром 3*3, заповнити їх випадковими цілими числами в діапазоні від 1 до 5 та знайти добуток всіх елементів першої матриці."
      ],
      "metadata": {
        "id": "WOa9pKh7HlFq"
      }
    },
    {
      "cell_type": "code",
      "source": [
        "matrix1 = np.random.randint(1, 6, size=(3, 3))\n",
        "matrix2 = np.random.randint(1, 6, size=(3, 3))\n",
        "\n",
        "#добуток всіх елементів першої матриці\n",
        "product_of_elements = np.prod(matrix1)\n",
        "\n",
        "# Виводимо результати\n",
        "print(\"Перша матриця (3x3):\\n\", matrix1)\n",
        "print(\"Друга матриця (3x3):\\n\", matrix2)\n",
        "print(\"Добуток всіх елементів першої матриці:\\n\", product_of_elements)"
      ],
      "metadata": {
        "colab": {
          "base_uri": "https://localhost:8080/"
        },
        "id": "FszT14WjIJ_p",
        "outputId": "a3308e2d-8df1-463e-ea66-0861b7201f87"
      },
      "execution_count": 13,
      "outputs": [
        {
          "output_type": "stream",
          "name": "stdout",
          "text": [
            "Перша матриця (3x3):\n",
            " [[4 5 1]\n",
            " [4 3 5]\n",
            " [3 2 2]]\n",
            "Друга матриця (3x3):\n",
            " [[5 3 4]\n",
            " [5 3 3]\n",
            " [4 5 1]]\n",
            "Добуток всіх елементів першої матриці:\n",
            " 14400\n"
          ]
        }
      ]
    },
    {
      "cell_type": "markdown",
      "source": [
        "Завдання 13\n",
        "\n",
        "Створити 2 матриці розміром 3*3 та заповнити їх випадковими дійсними числами від -1 до 1 та знайти різницю їх елементів"
      ],
      "metadata": {
        "id": "BhoibAH0J3Y6"
      }
    },
    {
      "cell_type": "code",
      "source": [
        "matrix1 = np.random.uniform(-1, 1, size=(3, 3))\n",
        "matrix2 = np.random.uniform(-1, 1, size=(3, 3))\n",
        "\n",
        "# Знаходимо різницю між відповідними елементами матриць\n",
        "difference = matrix1 - matrix2\n",
        "\n",
        "# Виводимо результати\n",
        "print(\"Перша матриця (3x3):\\n\", matrix1)\n",
        "print(\"Друга матриця (3x3):\\n\", matrix2)\n",
        "print(\"Різниця між матрицями (3x3):\\n\", difference)"
      ],
      "metadata": {
        "colab": {
          "base_uri": "https://localhost:8080/"
        },
        "id": "hts1QANEKPl-",
        "outputId": "63a4a667-7183-4e50-d37e-46964201c7ec"
      },
      "execution_count": 14,
      "outputs": [
        {
          "output_type": "stream",
          "name": "stdout",
          "text": [
            "Перша матриця (3x3):\n",
            " [[ 0.83366713  0.31072407  0.76834211]\n",
            " [-0.17402297  0.32664683  0.33744114]\n",
            " [ 0.41149578 -0.09686297 -0.82725946]]\n",
            "Друга матриця (3x3):\n",
            " [[-0.92442191  0.40405511  0.30831754]\n",
            " [-0.64139853  0.16940784 -0.95091505]\n",
            " [-0.69633213 -0.06651382  0.90329419]]\n",
            "Різниця між матрицями (3x3):\n",
            " [[ 1.75808903 -0.09333103  0.46002457]\n",
            " [ 0.46737556  0.15723899  1.28835619]\n",
            " [ 1.10782791 -0.03034915 -1.73055365]]\n"
          ]
        }
      ]
    },
    {
      "cell_type": "markdown",
      "source": [
        "Завдання 14\n",
        "\n",
        "Створити матрицю розміром 3*3, заповнити її випадковими дійсними числами від -3 до 3 та знайти суму елементів на головній діагоналі"
      ],
      "metadata": {
        "id": "VnLFKBvhKjJ-"
      }
    },
    {
      "cell_type": "code",
      "source": [
        "matrix = np.random.uniform(-3, 3, size=(3, 3))\n",
        "diagonal_elements = np.diagonal(matrix)\n",
        "\n",
        "# Знаходимо суму елементів на головній діагоналі\n",
        "sum_diagonal = np.sum(diagonal_elements)\n",
        "\n",
        "# Виводимо результати\n",
        "print(\"Матриця (3x3):\\n\", matrix)\n",
        "print(\"Елементи на головній діагоналі:\\n\", diagonal_elements)\n",
        "print(\"Сума елементів на головній діагоналі:\\n\", sum_diagonal)"
      ],
      "metadata": {
        "colab": {
          "base_uri": "https://localhost:8080/"
        },
        "id": "oWtu-9lMK8q9",
        "outputId": "891ea50b-6c1a-457a-e7d1-a5219e8df4b3"
      },
      "execution_count": 15,
      "outputs": [
        {
          "output_type": "stream",
          "name": "stdout",
          "text": [
            "Матриця (3x3):\n",
            " [[-1.40631498  2.08198428 -0.95045828]\n",
            " [-1.26096888  2.31044039 -2.05129813]\n",
            " [-2.81949401  1.05817865  0.97935129]]\n",
            "Елементи на головній діагоналі:\n",
            " [-1.40631498  2.31044039  0.97935129]\n",
            "Сума елементів на головній діагоналі:\n",
            " 1.8834766905508897\n"
          ]
        }
      ]
    },
    {
      "cell_type": "markdown",
      "source": [
        "Завдання 15\n",
        "\n",
        "Створити матрицю розміром 3*3 , заповнити її випадковими дійсними числами в діапазоні від -2 до 2 та знайти вектор-стовпчик, що містить середнє арифметичне значення елементів кожного стовпчика матриці"
      ],
      "metadata": {
        "id": "fPpWeG7CLAQ-"
      }
    },
    {
      "cell_type": "code",
      "source": [
        "matrix = np.random.uniform(-2, 2, size=(3, 3))\n",
        "\n",
        "# середнє арифметичне значення елементів кожного стовпчика\n",
        "mean_per_column = np.mean(matrix, axis=0)\n",
        "\n",
        "# Перетворюємо результат у вектор-стовпчик\n",
        "mean_vector = mean_per_column.reshape(-1, 1)\n",
        "\n",
        "# Виводимо результати\n",
        "print(\"Матриця (3x3):\\n\", matrix)\n",
        "print(\"Вектор-стовпчик середніх значень кожного стовпчика:\\n\", mean_vector)"
      ],
      "metadata": {
        "colab": {
          "base_uri": "https://localhost:8080/"
        },
        "id": "M51n_y9qLhlO",
        "outputId": "ba2d291a-4056-4593-b54c-3fed1becd4f1"
      },
      "execution_count": 16,
      "outputs": [
        {
          "output_type": "stream",
          "name": "stdout",
          "text": [
            "Матриця (3x3):\n",
            " [[-1.16392628  1.84062112  0.47414923]\n",
            " [ 0.81717399  0.2094148   0.95991327]\n",
            " [ 0.47471807 -0.97432549  1.4300468 ]]\n",
            "Вектор-стовпчик середніх значень кожного стовпчика:\n",
            " [[0.04265526]\n",
            " [0.35857014]\n",
            " [0.9547031 ]]\n"
          ]
        }
      ]
    }
  ]
}